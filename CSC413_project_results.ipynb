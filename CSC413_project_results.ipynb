{
  "nbformat": 4,
  "nbformat_minor": 0,
  "metadata": {
    "colab": {
      "name": "CSC413_prject_results.ipynb",
      "provenance": [],
      "collapsed_sections": [],
      "toc_visible": true
    },
    "kernelspec": {
      "name": "python3",
      "display_name": "Python 3"
    },
    "language_info": {
      "name": "python"
    }
  },
  "cells": [
    {
      "cell_type": "code",
      "metadata": {
        "id": "cSYY2gbMyOOv"
      },
      "source": [
        "import matplotlib.pyplot as plt\n",
        "import seaborn as sns\n",
        "import pandas as pd"
      ],
      "execution_count": 5,
      "outputs": []
    },
    {
      "cell_type": "markdown",
      "metadata": {
        "id": "UNPjrv618cn3"
      },
      "source": [
        "## Accuracy plot"
      ]
    },
    {
      "cell_type": "code",
      "metadata": {
        "id": "RQ5IZZ8qyWcM"
      },
      "source": [
        "subject = [\"subject \" + str(i) for i in range(1,10)] + [\"All subjects\"]\n",
        "cnn =   [0.725,0.458,0.80,0.61, 0.42,0.45,.63,.69,.68,.5953]\n",
        "lstm =   [0.3275862068965517, 0.21551724137931033, 0.29310344827586204, 0.3448275862068966, 0.3706896551724138, 0.29310344827586204, 0.3103448275862069, 0.21551724137931033, 0.5862068965517241, 0.32497589199614274]\n",
        "transformer =  [0.29310344827586204, 0.19827586206896552, 0.1810344827586207, 0.23275862068965517, 0.20689655172413793, 0.28448275862068967, 0.20689655172413793, 0.1896551724137931, 0.3275862068965517, 0.22854387656702024] "
      ],
      "execution_count": 6,
      "outputs": []
    },
    {
      "cell_type": "code",
      "metadata": {
        "id": "NXwA3vjL5utp"
      },
      "source": [
        "cnn_df = pd.DataFrame([cnn, subject, [\"cnn\" for i in range(10)]]).transpose()\n",
        "cnn_df.columns =  [\"data\", \"subject\", \"model\"]\n",
        "cnn_df\n",
        "\n",
        "lstm_df = pd.DataFrame([lstm, subject, [\"lstm\" for i in range(10)]]).transpose()\n",
        "lstm_df.columns =  [\"data\", \"subject\", \"model\"]\n",
        "lstm_df\n",
        "\n",
        "transformer_df = pd.DataFrame([transformer, subject, [\"transformer\" for i in range(10)]]).transpose()\n",
        "transformer_df.columns =  [\"data\", \"subject\", \"model\"]\n",
        "transformer_df\n",
        "\n",
        "accs = pd.concat((cnn_df, lstm_df, transformer_df))"
      ],
      "execution_count": 7,
      "outputs": []
    },
    {
      "cell_type": "code",
      "metadata": {
        "colab": {
          "base_uri": "https://localhost:8080/",
          "height": 562
        },
        "id": "1KPn8VRJ8btk",
        "outputId": "4d13d825-47da-4e92-d9da-84570cd2042b"
      },
      "source": [
        "plt.figure(figsize=(16,6))\n",
        "ax = sns.barplot(x=\"subject\", y=\"data\", hue=\"model\", data=accs)\n",
        "ax.set_xticklabels(\n",
        "    ax.get_xticklabels(), \n",
        "    rotation=0, \n",
        "    horizontalalignment='center',\n",
        "    fontweight='light',\n",
        "    fontsize='x-large'\n",
        ")"
      ],
      "execution_count": 8,
      "outputs": [
        {
          "output_type": "execute_result",
          "data": {
            "text/plain": [
              "[Text(0, 0, 'subject 1'),\n",
              " Text(0, 0, 'subject 2'),\n",
              " Text(0, 0, 'subject 3'),\n",
              " Text(0, 0, 'subject 4'),\n",
              " Text(0, 0, 'subject 5'),\n",
              " Text(0, 0, 'subject 6'),\n",
              " Text(0, 0, 'subject 7'),\n",
              " Text(0, 0, 'subject 8'),\n",
              " Text(0, 0, 'subject 9'),\n",
              " Text(0, 0, 'All subjects')]"
            ]
          },
          "metadata": {
            "tags": []
          },
          "execution_count": 8
        },
        {
          "output_type": "display_data",
          "data": {
            "image/png": "[encoded data removed]",
            "text/plain": [
              "<Figure size 1152x432 with 1 Axes>"
            ]
          },
          "metadata": {
            "tags": [],
            "needs_background": "light"
          }
        }
      ]
    },
    {
      "cell_type": "markdown",
      "metadata": {
        "id": "AaV9nb0KwqGF"
      },
      "source": [
        "## Kappa plot"
      ]
    },
    {
      "cell_type": "code",
      "metadata": {
        "id": "W_uRc5sowqGO"
      },
      "source": [
        "subject = [\"subject \" + str(i) for i in range(1,10)] + [\"All subjects\"]\n",
        "cnn_kappa = [0.5092592592592593, 0.15740740740740744, 0.6203703703703703, 0.37037037037037035, 0.1620370370370371, 0.19907407407407407, 0.5, 0.5092592592592593, 0.5972222222222222,0.45833333333333337]\n",
        "lstm_kappa = [0.09862522414823682, -0.03257360852978586, 0.0731754847510474, 0.12816455696202533, 0.16596079976361655, 0.05126670656293619, 0.09789054146009524, -0.025053408428820978, 0.44849445324881143, 0.10349290723207905]\n",
        "transformer_kappa = [0.04353946706887879, -0.002322772461209599, -0.022358289266165565, 0.018444571211256866, -0.009936595060092923, 0.022140970952671202, 0.02672138622891007, -0.006832871652816097, 0.033023404937480016, -0.02635287189517732] "
      ],
      "execution_count": 9,
      "outputs": []
    },
    {
      "cell_type": "code",
      "metadata": {
        "id": "wUpjnWxfwqGQ"
      },
      "source": [
        "cnn_kappa_df = pd.DataFrame([cnn_kappa, subject, [\"cnn\" for i in range(10)]]).transpose()\n",
        "cnn_kappa_df.columns =  [\"data\", \"subject\", \"model\"]\n",
        "cnn_kappa_df\n",
        "\n",
        "lstm_kappa_df = pd.DataFrame([lstm_kappa, subject, [\"lstm\" for i in range(10)]]).transpose()\n",
        "lstm_kappa_df.columns =  [\"data\", \"subject\", \"model\"]\n",
        "lstm_kappa_df\n",
        "\n",
        "transformer_kappa_df = pd.DataFrame([transformer_kappa, subject, [\"transformer\" for i in range(10)]]).transpose()\n",
        "transformer_kappa_df.columns =  [\"data\", \"subject\", \"model\"]\n",
        "transformer_kappa_df\n",
        "\n",
        "kappas = pd.concat((cnn_kappa_df, lstm_kappa_df, transformer_kappa_df))"
      ],
      "execution_count": 10,
      "outputs": []
    },
    {
      "cell_type": "code",
      "metadata": {
        "colab": {
          "base_uri": "https://localhost:8080/",
          "height": 562
        },
        "id": "VC70z-ziwqGQ",
        "outputId": "026438b8-182e-42e1-a5fd-47cfcc0fadba"
      },
      "source": [
        "plt.figure(figsize=(16,6))\n",
        "ax = sns.barplot(x=\"subject\", y=\"data\", hue=\"model\", data=kappas)\n",
        "ax.set_xticklabels(\n",
        "    ax.get_xticklabels(), \n",
        "    rotation=0, \n",
        "    horizontalalignment='center',\n",
        "    fontweight='light',\n",
        "    fontsize='x-large'\n",
        ")"
      ],
      "execution_count": 11,
      "outputs": [
        {
          "output_type": "execute_result",
          "data": {
            "text/plain": [
              "[Text(0, 0, 'subject 1'),\n",
              " Text(0, 0, 'subject 2'),\n",
              " Text(0, 0, 'subject 3'),\n",
              " Text(0, 0, 'subject 4'),\n",
              " Text(0, 0, 'subject 5'),\n",
              " Text(0, 0, 'subject 6'),\n",
              " Text(0, 0, 'subject 7'),\n",
              " Text(0, 0, 'subject 8'),\n",
              " Text(0, 0, 'subject 9'),\n",
              " Text(0, 0, 'All subjects')]"
            ]
          },
          "metadata": {
            "tags": []
          },
          "execution_count": 11
        },
        {
          "output_type": "display_data",
          "data": {
            "image/png": "[encoded data removed]",
            "text/plain": [
              "<Figure size 1152x432 with 1 Axes>"
            ]
          },
          "metadata": {
            "tags": [],
            "needs_background": "light"
          }
        }
      ]
    },
    {
      "cell_type": "markdown",
      "metadata": {
        "id": "llEQhXycw5Ik"
      },
      "source": [
        "## Precision"
      ]
    },
    {
      "cell_type": "code",
      "metadata": {
        "id": "1KADXr-2w7Fw"
      },
      "source": [
        "cnn_precision = [0.6266870106228495, 0.41614170561538977, 0.7131290584415584, 0.5296067913686656, 0.3822231922686656, 0.4025361268787976, 0.6276247245041073, 0.6534440500338066, 0.708623372860661,0.5944212458631964]\n",
        "lstm_precision = [0.3015, 0.2255, 0.2981, 0.3458, 0.3728, 0.3078, 0.3536, 0.2116, 0.5881, 0.3276]\n",
        "transformer_precision = [0.2749512670565302, 0.09321305841924399, 0.12414965986394558, 0.30454545454545456, 0.21906565656565657, 0.20126159981593683, 0.46354166666666663, 0.17843335787923414, 0.4476063829787234, 0.23271648287009994]"
      ],
      "execution_count": null,
      "outputs": []
    },
    {
      "cell_type": "markdown",
      "metadata": {
        "id": "T7E9nXSpw7rY"
      },
      "source": [
        "### Recall"
      ]
    },
    {
      "cell_type": "code",
      "metadata": {
        "id": "5C8w1m6yw-bd"
      },
      "source": [
        "cnn_recall = [0.6319444444444444, 0.3680555555555555, 0.7152777777777778, 0.5277777777777777, 0.3715277777777778, 0.3993055555555555, 0.625, 0.6319444444444444, 0.6979166666666667,0.59375]\n",
        "lstm_recall = [0.3253, 0.2230, 0.3131, 0.3500, 0.3792, 0.2921, 0.3216, 0.236, 0.5927, 0.3306]\n",
        "transformer_recall = [0.29263994107744107, 0.2595238095238095, 0.22619047619047616, 0.2641858237547893, 0.24119801766860588, 0.2678665727864813, 0.27163865546218485, 0.25030165912518854, 0.27224065092959593, 0.22916824181473566]"
      ],
      "execution_count": null,
      "outputs": []
    }
  ]
}