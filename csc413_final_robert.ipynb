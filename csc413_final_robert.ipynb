{
  "nbformat": 4,
  "nbformat_minor": 0,
  "metadata": {
    "accelerator": "GPU",
    "colab": {
      "name": "csc413_final_robert.ipynb",
      "provenance": [],
      "collapsed_sections": [
        "cCnth-OEGRbc",
        "GCJSgGjqHAse",
        "PO9G8szdHspT",
        "Q_6EGMJDHDMd",
        "iHPFQwKHYveL",
        "TEzcN1m9JDLY",
        "vz832jopYE8e",
        "Drcvk8QSZHs3",
        "su_YE08paKmo",
        "-GZtRojqd88W",
        "kqoY3X6uaqsP",
        "OQcPFzfeaGf_",
        "deadKrGOPUcO",
        "9orvA09AK9C6",
        "tG3h63qB2sTo",
        "VHY-TVxbtdwW",
        "k7Bby5zJanl9",
        "nwVkSYw6Q-He"
      ],
      "toc_visible": true
    },
    "kernelspec": {
      "display_name": "Python 3",
      "name": "python3"
    },
    "language_info": {
      "name": "python"
    }
  },
  "cells": [
    {
      "cell_type": "markdown",
      "metadata": {
        "id": "IRJ5L0eAGJAj"
      },
      "source": [
        "# Roberts Code (Transformer based)"
      ]
    },
    {
      "cell_type": "markdown",
      "metadata": {
        "id": "cCnth-OEGRbc"
      },
      "source": [
        "## Imports"
      ]
    },
    {
      "cell_type": "markdown",
      "metadata": {
        "id": "GCJSgGjqHAse"
      },
      "source": [
        "### MOAB!\n",
        "[Mother of all BCI Benchmark!](https://github.com/NeuroTechX/moabb)\n",
        "\n",
        "[Citation](https://iopscience.iop.org/article/10.1088/1741-2552/aadea0)"
      ]
    },
    {
      "cell_type": "code",
      "metadata": {
        "colab": {
          "base_uri": "https://localhost:8080/"
        },
        "id": "LeToIUhkGSGY",
        "outputId": "56921d61-e8a8-4d17-8c1d-9c5b08be060b"
      },
      "source": [
        "!pip install download\n",
        "!python -c \"from download import download; download('https://raw.githubusercontent.com/NeuroTechX/moabb/master/requirements.txt', 'requirements.txt', replace=True)\"\n",
        "!pip install -r requirements.txt\n",
        "!rm requirements.txt\n",
        "!pip install -U https://github.com/NeuroTechX/moabb/archive/master.zip\n",
        "\n",
        "from moabb.datasets import BNCI2014001\n",
        "from moabb.paradigms import (LeftRightImagery, MotorImagery,\n",
        "                             FilterBankMotorImagery)"
      ],
      "execution_count": null,
      "outputs": [
        {
          "output_type": "stream",
          "text": [
            "Requirement already satisfied: download in /usr/local/lib/python3.7/dist-packages (0.3.5)\n",
            "Requirement already satisfied: six in /usr/local/lib/python3.7/dist-packages (from download) (1.15.0)\n",
            "Requirement already satisfied: requests in /usr/local/lib/python3.7/dist-packages (from download) (2.23.0)\n",
            "Requirement already satisfied: tqdm in /usr/local/lib/python3.7/dist-packages (from download) (4.41.1)\n",
            "Requirement already satisfied: certifi>=2017.4.17 in /usr/local/lib/python3.7/dist-packages (from requests->download) (2020.12.5)\n",
            "Requirement already satisfied: chardet<4,>=3.0.2 in /usr/local/lib/python3.7/dist-packages (from requests->download) (3.0.4)\n",
            "Requirement already satisfied: urllib3!=1.25.0,!=1.25.1,<1.26,>=1.21.1 in /usr/local/lib/python3.7/dist-packages (from requests->download) (1.24.3)\n",
            "Requirement already satisfied: idna<3,>=2.5 in /usr/local/lib/python3.7/dist-packages (from requests->download) (2.10)\n",
            "Traceback (most recent call last):\n",
            "  File \"/usr/local/lib/python3.7/dist-packages/download/download.py\", line 208, in _fetch_file\n",
            "    u = urllib.request.urlopen(req, timeout=timeout)\n",
            "  File \"/usr/lib/python3.7/urllib/request.py\", line 222, in urlopen\n",
            "    return opener.open(url, data, timeout)\n",
            "  File \"/usr/lib/python3.7/urllib/request.py\", line 531, in open\n",
            "    response = meth(req, response)\n",
            "  File \"/usr/lib/python3.7/urllib/request.py\", line 641, in http_response\n",
            "    'http', request, response, code, msg, hdrs)\n",
            "  File \"/usr/lib/python3.7/urllib/request.py\", line 569, in error\n",
            "    return self._call_chain(*args)\n",
            "  File \"/usr/lib/python3.7/urllib/request.py\", line 503, in _call_chain\n",
            "    result = func(*args)\n",
            "  File \"/usr/lib/python3.7/urllib/request.py\", line 649, in http_error_default\n",
            "    raise HTTPError(req.full_url, code, msg, hdrs, fp)\n",
            "urllib.error.HTTPError: HTTP Error 404: Not Found\n",
            "\n",
            "During handling of the above exception, another exception occurred:\n",
            "\n",
            "Traceback (most recent call last):\n",
            "  File \"<string>\", line 1, in <module>\n",
            "  File \"/usr/local/lib/python3.7/dist-packages/download/download.py\", line 124, in download\n",
            "    progressbar=progressbar,\n",
            "  File \"/usr/local/lib/python3.7/dist-packages/download/download.py\", line 279, in _fetch_file\n",
            "    \" Dataset fetching aborted.\\nError: %s\" % (url, ee)\n",
            "RuntimeError: Error while fetching file https://raw.githubusercontent.com/NeuroTechX/moabb/master/requirements.txt. Dataset fetching aborted.\n",
            "Error: HTTP Error 404: Not Found\n",
            "\u001b[31mERROR: Could not open requirements file: [Errno 2] No such file or directory: 'requirements.txt'\u001b[0m\n",
            "rm: cannot remove 'requirements.txt': No such file or directory\n",
            "Collecting https://github.com/NeuroTechX/moabb/archive/master.zip\n",
            "  Using cached https://github.com/NeuroTechX/moabb/archive/master.zip\n",
            "  Installing build dependencies ... \u001b[?25l\u001b[?25hdone\n",
            "  Getting requirements to build wheel ... \u001b[?25l\u001b[?25hdone\n",
            "    Preparing wheel metadata ... \u001b[?25l\u001b[?25hdone\n",
            "Requirement already satisfied, skipping upgrade: seaborn>=0.9.0 in /usr/local/lib/python3.7/dist-packages (from moabb==0.3.0) (0.11.1)\n",
            "Requirement already satisfied, skipping upgrade: coloredlogs<16.0,>=15.0 in /usr/local/lib/python3.7/dist-packages (from moabb==0.3.0) (15.0)\n",
            "Requirement already satisfied, skipping upgrade: matplotlib<4.0.0,>=3.0.0 in /usr/local/lib/python3.7/dist-packages (from moabb==0.3.0) (3.2.2)\n",
            "Requirement already satisfied, skipping upgrade: PyYAML<6.0.0,>=5.0.0 in /usr/local/lib/python3.7/dist-packages (from moabb==0.3.0) (5.4.1)\n",
            "Requirement already satisfied, skipping upgrade: scikit-learn<0.24,>=0.23 in /usr/local/lib/python3.7/dist-packages (from moabb==0.3.0) (0.23.2)\n",
            "Requirement already satisfied, skipping upgrade: pyriemann>=0.2.6 in /usr/local/lib/python3.7/dist-packages (from moabb==0.3.0) (0.2.6)\n",
            "Requirement already satisfied, skipping upgrade: pandas<2.0.0,>=1.0.0 in /usr/local/lib/python3.7/dist-packages (from moabb==0.3.0) (1.1.5)\n",
            "Requirement already satisfied, skipping upgrade: mne>=0.19 in /usr/local/lib/python3.7/dist-packages (from moabb==0.3.0) (0.22.0)\n",
            "Requirement already satisfied, skipping upgrade: pyunpack<0.3.0,>=0.2.2 in /usr/local/lib/python3.7/dist-packages (from moabb==0.3.0) (0.2.2)\n",
            "Requirement already satisfied, skipping upgrade: scipy<2.0,>=1.5 in /usr/local/lib/python3.7/dist-packages (from moabb==0.3.0) (1.6.2)\n",
            "Requirement already satisfied, skipping upgrade: wfdb<4.0.0,>=3.3.0 in /usr/local/lib/python3.7/dist-packages (from moabb==0.3.0) (3.3.0)\n",
            "Requirement already satisfied, skipping upgrade: h5py<4.0.0,>=3.0.0 in /usr/local/lib/python3.7/dist-packages (from moabb==0.3.0) (3.2.1)\n",
            "Requirement already satisfied, skipping upgrade: numpy<2.0.0,>=1.19.0 in /usr/local/lib/python3.7/dist-packages (from moabb==0.3.0) (1.19.5)\n",
            "Requirement already satisfied, skipping upgrade: patool<2.0,>=1.12 in /usr/local/lib/python3.7/dist-packages (from moabb==0.3.0) (1.12)\n",
            "Requirement already satisfied, skipping upgrade: humanfriendly>=9.1 in /usr/local/lib/python3.7/dist-packages (from coloredlogs<16.0,>=15.0->moabb==0.3.0) (9.1)\n",
            "Requirement already satisfied, skipping upgrade: pyparsing!=2.0.4,!=2.1.2,!=2.1.6,>=2.0.1 in /usr/local/lib/python3.7/dist-packages (from matplotlib<4.0.0,>=3.0.0->moabb==0.3.0) (2.4.7)\n",
            "Requirement already satisfied, skipping upgrade: cycler>=0.10 in /usr/local/lib/python3.7/dist-packages (from matplotlib<4.0.0,>=3.0.0->moabb==0.3.0) (0.10.0)\n",
            "Requirement already satisfied, skipping upgrade: kiwisolver>=1.0.1 in /usr/local/lib/python3.7/dist-packages (from matplotlib<4.0.0,>=3.0.0->moabb==0.3.0) (1.3.1)\n",
            "Requirement already satisfied, skipping upgrade: python-dateutil>=2.1 in /usr/local/lib/python3.7/dist-packages (from matplotlib<4.0.0,>=3.0.0->moabb==0.3.0) (2.8.1)\n",
            "Requirement already satisfied, skipping upgrade: threadpoolctl>=2.0.0 in /usr/local/lib/python3.7/dist-packages (from scikit-learn<0.24,>=0.23->moabb==0.3.0) (2.1.0)\n",
            "Requirement already satisfied, skipping upgrade: joblib>=0.11 in /usr/local/lib/python3.7/dist-packages (from scikit-learn<0.24,>=0.23->moabb==0.3.0) (1.0.1)\n",
            "Requirement already satisfied, skipping upgrade: pytz>=2017.2 in /usr/local/lib/python3.7/dist-packages (from pandas<2.0.0,>=1.0.0->moabb==0.3.0) (2018.9)\n",
            "Requirement already satisfied, skipping upgrade: entrypoint2 in /usr/local/lib/python3.7/dist-packages (from pyunpack<0.3.0,>=0.2.2->moabb==0.3.0) (0.2.3)\n",
            "Requirement already satisfied, skipping upgrade: easyprocess in /usr/local/lib/python3.7/dist-packages (from pyunpack<0.3.0,>=0.2.2->moabb==0.3.0) (0.3)\n",
            "Requirement already satisfied, skipping upgrade: certifi>=2016.8.2 in /usr/local/lib/python3.7/dist-packages (from wfdb<4.0.0,>=3.3.0->moabb==0.3.0) (2020.12.5)\n",
            "Requirement already satisfied, skipping upgrade: idna>=2.2 in /usr/local/lib/python3.7/dist-packages (from wfdb<4.0.0,>=3.3.0->moabb==0.3.0) (2.10)\n",
            "Requirement already satisfied, skipping upgrade: requests>=2.8.1 in /usr/local/lib/python3.7/dist-packages (from wfdb<4.0.0,>=3.3.0->moabb==0.3.0) (2.23.0)\n",
            "Requirement already satisfied, skipping upgrade: chardet>=3.0.0 in /usr/local/lib/python3.7/dist-packages (from wfdb<4.0.0,>=3.3.0->moabb==0.3.0) (3.0.4)\n",
            "Requirement already satisfied, skipping upgrade: urllib3>=1.22 in /usr/local/lib/python3.7/dist-packages (from wfdb<4.0.0,>=3.3.0->moabb==0.3.0) (1.24.3)\n",
            "Requirement already satisfied, skipping upgrade: cached-property; python_version < \"3.8\" in /usr/local/lib/python3.7/dist-packages (from h5py<4.0.0,>=3.0.0->moabb==0.3.0) (1.5.2)\n",
            "Requirement already satisfied, skipping upgrade: six in /usr/local/lib/python3.7/dist-packages (from cycler>=0.10->matplotlib<4.0.0,>=3.0.0->moabb==0.3.0) (1.15.0)\n",
            "Requirement already satisfied, skipping upgrade: argparse in /usr/local/lib/python3.7/dist-packages (from entrypoint2->pyunpack<0.3.0,>=0.2.2->moabb==0.3.0) (1.4.0)\n",
            "Building wheels for collected packages: moabb\n",
            "  Building wheel for moabb (PEP 517) ... \u001b[?25l\u001b[?25hdone\n",
            "  Created wheel for moabb: filename=moabb-0.3.0-cp37-none-any.whl size=107261 sha256=5025e1bc6fb14f242a0e5d43197c1ac15638c071ded4a2ad43ca495daf592309\n",
            "  Stored in directory: /tmp/pip-ephem-wheel-cache-3yaicy16/wheels/6b/6e/4c/947a2af13ece2bbe3681f59407109fd25f32aa27ca09a27808\n",
            "Successfully built moabb\n",
            "Installing collected packages: moabb\n",
            "  Found existing installation: moabb 0.3.0\n",
            "    Uninstalling moabb-0.3.0:\n",
            "      Successfully uninstalled moabb-0.3.0\n",
            "Successfully installed moabb-0.3.0\n"
          ],
          "name": "stdout"
        }
      ]
    },
    {
      "cell_type": "markdown",
      "metadata": {
        "id": "PO9G8szdHspT"
      },
      "source": [
        "### EEG brain code\n",
        "\n",
        "[Github project](https://github.com/braindecode/braindecode)\n",
        "\n",
        "[https://braindecode.org/index.html](documentation)"
      ]
    },
    {
      "cell_type": "code",
      "metadata": {
        "colab": {
          "base_uri": "https://localhost:8080/"
        },
        "id": "TtJ5Wr54HzHg",
        "outputId": "1a9dfae4-b088-40b1-f384-25d47cf94767"
      },
      "source": [
        "!pip install braindecode\n",
        "from braindecode.datasets.bbci import  BBCIDataset\n",
        "from braindecode.datasets.moabb import MOABBDataset     #Braindecode stuff not sure if we will go this route \n",
        "import mne"
      ],
      "execution_count": null,
      "outputs": [
        {
          "output_type": "stream",
          "text": [
            "Requirement already satisfied: braindecode in /usr/local/lib/python3.7/dist-packages (0.5)\n",
            "Requirement already satisfied: pandas in /usr/local/lib/python3.7/dist-packages (from braindecode) (1.1.5)\n",
            "Requirement already satisfied: scipy in /usr/local/lib/python3.7/dist-packages (from braindecode) (1.6.2)\n",
            "Requirement already satisfied: h5py in /usr/local/lib/python3.7/dist-packages (from braindecode) (3.2.1)\n",
            "Requirement already satisfied: skorch in /usr/local/lib/python3.7/dist-packages (from braindecode) (0.10.0)\n",
            "Requirement already satisfied: mne in /usr/local/lib/python3.7/dist-packages (from braindecode) (0.22.0)\n",
            "Requirement already satisfied: matplotlib in /usr/local/lib/python3.7/dist-packages (from braindecode) (3.2.2)\n",
            "Requirement already satisfied: numpy in /usr/local/lib/python3.7/dist-packages (from braindecode) (1.19.5)\n",
            "Requirement already satisfied: pytz>=2017.2 in /usr/local/lib/python3.7/dist-packages (from pandas->braindecode) (2018.9)\n",
            "Requirement already satisfied: python-dateutil>=2.7.3 in /usr/local/lib/python3.7/dist-packages (from pandas->braindecode) (2.8.1)\n",
            "Requirement already satisfied: cached-property; python_version < \"3.8\" in /usr/local/lib/python3.7/dist-packages (from h5py->braindecode) (1.5.2)\n",
            "Requirement already satisfied: scikit-learn>=0.19.1 in /usr/local/lib/python3.7/dist-packages (from skorch->braindecode) (0.23.2)\n",
            "Requirement already satisfied: tqdm>=4.14.0 in /usr/local/lib/python3.7/dist-packages (from skorch->braindecode) (4.41.1)\n",
            "Requirement already satisfied: tabulate>=0.7.7 in /usr/local/lib/python3.7/dist-packages (from skorch->braindecode) (0.8.9)\n",
            "Requirement already satisfied: cycler>=0.10 in /usr/local/lib/python3.7/dist-packages (from matplotlib->braindecode) (0.10.0)\n",
            "Requirement already satisfied: kiwisolver>=1.0.1 in /usr/local/lib/python3.7/dist-packages (from matplotlib->braindecode) (1.3.1)\n",
            "Requirement already satisfied: pyparsing!=2.0.4,!=2.1.2,!=2.1.6,>=2.0.1 in /usr/local/lib/python3.7/dist-packages (from matplotlib->braindecode) (2.4.7)\n",
            "Requirement already satisfied: six>=1.5 in /usr/local/lib/python3.7/dist-packages (from python-dateutil>=2.7.3->pandas->braindecode) (1.15.0)\n",
            "Requirement already satisfied: threadpoolctl>=2.0.0 in /usr/local/lib/python3.7/dist-packages (from scikit-learn>=0.19.1->skorch->braindecode) (2.1.0)\n",
            "Requirement already satisfied: joblib>=0.11 in /usr/local/lib/python3.7/dist-packages (from scikit-learn>=0.19.1->skorch->braindecode) (1.0.1)\n"
          ],
          "name": "stdout"
        }
      ]
    },
    {
      "cell_type": "markdown",
      "metadata": {
        "id": "Q_6EGMJDHDMd"
      },
      "source": [
        "### Other imports"
      ]
    },
    {
      "cell_type": "code",
      "metadata": {
        "id": "BGqf84mZHUF8"
      },
      "source": [
        "import os\n",
        "import pdb\n",
        "import argparse\n",
        "import pickle as pkl\n",
        "\n",
        "from collections import defaultdict\n",
        "\n",
        "import numpy as np\n",
        "import matplotlib as mpl\n",
        "import matplotlib.pyplot as plt\n",
        "import matplotlib.ticker as ticker\n",
        "\n",
        "import torch\n",
        "import torch.nn as nn\n",
        "import torch.optim as optim\n",
        "import torch.nn.functional as F\n",
        "from torch.utils.data import TensorDataset, DataLoader, random_split\n",
        "from torch.autograd import Variable\n",
        "\n",
        "from six.moves.urllib.request import urlretrieve\n",
        "import tarfile\n",
        "import pickle\n",
        "import sys"
      ],
      "execution_count": null,
      "outputs": []
    },
    {
      "cell_type": "markdown",
      "metadata": {
        "id": "cvkVvp5mdyHh"
      },
      "source": [
        ""
      ]
    },
    {
      "cell_type": "markdown",
      "metadata": {
        "id": "hbvNMa0RVsoj"
      },
      "source": [
        "## Datasets"
      ]
    },
    {
      "cell_type": "markdown",
      "metadata": {
        "id": "iHPFQwKHYveL"
      },
      "source": [
        "### Pick a dataset"
      ]
    },
    {
      "cell_type": "markdown",
      "metadata": {
        "id": "TEzcN1m9JDLY"
      },
      "source": [
        "#### High Gamma Dataset\n",
        "[Github Link to project](https://github.com/robintibor/high-gamma-dataset)\n",
        "\n",
        "BELOW CODE DOESNT WORK NEED TO DO MANUALLY!!!!"
      ]
    },
    {
      "cell_type": "code",
      "metadata": {
        "id": "RgK5in57JPv9"
      },
      "source": [
        "#!git clone https://gin.g-node.org/robintibor/high-gamma-dataset.git"
      ],
      "execution_count": null,
      "outputs": []
    },
    {
      "cell_type": "code",
      "metadata": {
        "id": "KBo_ueG0Qs9n"
      },
      "source": [
        "#!npx degit /robintibor/high-gamma-dataset -f"
      ],
      "execution_count": null,
      "outputs": []
    },
    {
      "cell_type": "markdown",
      "metadata": {
        "id": "vz832jopYE8e"
      },
      "source": [
        "#### BCI2000\n",
        "[data](https://physionet.org/content/eegmmidb/1.0.0/)\n",
        "\n",
        "[paper: BCI2000: a general-purpose brain-computer interface (BCI) system](https://pubmed.ncbi.nlm.nih.gov/15188875/)\n",
        "\n",
        "TOO BIG!"
      ]
    },
    {
      "cell_type": "code",
      "metadata": {
        "id": "Ph_7JcDhXMIg"
      },
      "source": [
        "#!wget -r -N -c -np https://physionet.org/files/eegmmidb/1.0.0/"
      ],
      "execution_count": null,
      "outputs": []
    },
    {
      "cell_type": "markdown",
      "metadata": {
        "id": "Drcvk8QSZHs3"
      },
      "source": [
        "#### BCIC IV 2a Dataset (Left, right, up, down based on left/right hand, foot and tongue)\n",
        "[Description and citation](http://moabb.neurotechx.com/docs/generated/moabb.datasets.BNCI2014001.html?highlight=moabb%20paradigms)\n",
        "\n",
        "[Article](https://www.ncbi.nlm.nih.gov/pmc/articles/PMC3396284/)\n",
        "\n",
        "Each run consits of :\n",
        "\n",
        "![data format](https://www.ncbi.nlm.nih.gov/pmc/articles/PMC3396284/bin/fnins-06-00055-g016.jpg \"Data format\")\n",
        "\n",
        "Since each run is 1001 samples at 250Hz (4 sec) long I assume we should remove the first second."
      ]
    },
    {
      "cell_type": "code",
      "metadata": {
        "id": "exdkfXmqZMuz"
      },
      "source": [
        "#subject_id = 3\n",
        "#dataset = MOABBDataset(dataset_name=\"BNCI2014001\", subject_ids=[1])\n",
        "#OR\n",
        "\n",
        "dataset = BNCI2014001()"
      ],
      "execution_count": null,
      "outputs": []
    },
    {
      "cell_type": "code",
      "metadata": {
        "colab": {
          "base_uri": "https://localhost:8080/"
        },
        "id": "deZSfBYdx3r7",
        "outputId": "c6336fc5-a5bc-4633-8211-99c8784b8c53"
      },
      "source": [
        "dataset"
      ],
      "execution_count": null,
      "outputs": [
        {
          "output_type": "execute_result",
          "data": {
            "text/plain": [
              "<moabb.datasets.bnci.BNCI2014001 at 0x7f9c6c43a9d0>"
            ]
          },
          "metadata": {
            "tags": []
          },
          "execution_count": 8
        }
      ]
    },
    {
      "cell_type": "markdown",
      "metadata": {
        "id": "TeKXyjTnInTB"
      },
      "source": [
        "### Play with data"
      ]
    },
    {
      "cell_type": "code",
      "metadata": {
        "id": "xXBfuDyTIp-_"
      },
      "source": [
        "#dataset = BNCI2014001()\n",
        "#data = BNCI2014001().get_data()"
      ],
      "execution_count": null,
      "outputs": []
    },
    {
      "cell_type": "code",
      "metadata": {
        "colab": {
          "base_uri": "https://localhost:8080/",
          "height": 388
        },
        "id": "iHEHDiLhgABT",
        "outputId": "cd962579-6d5c-442f-dda1-ef932b2821d5"
      },
      "source": [
        "#data[1]['session_E']['run_1'].plot()\n",
        "#data, times = data[1]['session_E']['run_1'][:,:]\n",
        "#print(times)"
      ],
      "execution_count": null,
      "outputs": [
        {
          "output_type": "stream",
          "text": [
            "/usr/local/lib/python3.7/dist-packages/matplotlib/colors.py:263: VisibleDeprecationWarning: Creating an ndarray from ragged nested sequences (which is a list-or-tuple of lists-or-tuples-or ndarrays with different lengths or shapes) is deprecated. If you meant to do this, you must specify 'dtype=object' when creating the ndarray\n",
            "  c = np.array(c)\n"
          ],
          "name": "stderr"
        },
        {
          "output_type": "display_data",
          "data": {
            "image/png": "[encoded data removed]",
            "text/plain": [
              "<MNEBrowseFigure size 432x288 with 4 Axes>"
            ]
          },
          "metadata": {
            "tags": []
          }
        },
        {
          "output_type": "stream",
          "text": [
            "[0.00000e+00 4.00000e-03 8.00000e-03 ... 3.86928e+02 3.86932e+02\n",
            " 3.86936e+02]\n"
          ],
          "name": "stdout"
        }
      ]
    },
    {
      "cell_type": "code",
      "metadata": {
        "id": "A2GcM8ksh1Ne"
      },
      "source": [
        "#paradigm = MotorImagery(n_classes=4)\n",
        "#print(paradigm.get_data.__doc__)\n",
        "#X, y, metadata = paradigm.get_data(dataset=dataset)"
      ],
      "execution_count": null,
      "outputs": []
    },
    {
      "cell_type": "code",
      "metadata": {
        "id": "UafQTBedj3mg"
      },
      "source": [
        "#print(X.shape)   #(trial, channel, time sample)\n",
        "#print(y.shape)\n",
        "#print(np.unique(y))\n",
        "#code_dict = {'feet':0, 'left_hand':1, 'right_hand':2, 'tongue':3}\n",
        "#print([code_dict[i] for i in list(y)])"
      ],
      "execution_count": null,
      "outputs": []
    },
    {
      "cell_type": "markdown",
      "metadata": {
        "id": "45YA7XZMcaVB"
      },
      "source": [
        "## Utility Functions"
      ]
    },
    {
      "cell_type": "markdown",
      "metadata": {
        "id": "su_YE08paKmo"
      },
      "source": [
        "### Options functions"
      ]
    },
    {
      "cell_type": "code",
      "metadata": {
        "id": "yhSkb5dUHRjP"
      },
      "source": [
        "class AttrDict(dict):\n",
        "    def __init__(self, *args, **kwargs):\n",
        "        super(AttrDict, self).__init__(*args, **kwargs)\n",
        "        self.__dict__ = self"
      ],
      "execution_count": null,
      "outputs": []
    },
    {
      "cell_type": "code",
      "metadata": {
        "id": "Hb0E6PVVW3W2"
      },
      "source": [
        "def print_opts(opts):\n",
        "    \"\"\"Prints the values of all command-line arguments.\n",
        "    \"\"\"\n",
        "    print('=' * 80)\n",
        "    print('Opts'.center(80))\n",
        "    print('-' * 80)\n",
        "    for key in opts.__dict__:\n",
        "        print('{:>30}: {:<30}'.format(key, opts.__dict__[key]).center(80))\n",
        "    print('=' * 80)"
      ],
      "execution_count": null,
      "outputs": []
    },
    {
      "cell_type": "markdown",
      "metadata": {
        "id": "-GZtRojqd88W"
      },
      "source": [
        "### Make Loader"
      ]
    },
    {
      "cell_type": "code",
      "metadata": {
        "id": "7Cg8BsyWeAsG"
      },
      "source": [
        "code_dict = {'feet':0, 'left_hand':1, 'right_hand':2, 'tongue':3}\n",
        "\n",
        "def create_Loaders(data, paradigm, batchSize, windowSize):\n",
        "  X, y, metadata = paradigm.get_data(dataset=data)\n",
        "\n",
        "  repeats = int(750/windowSize)\n",
        "  X, y, metadata = paradigm.get_data(dataset=dataset)\n",
        "\n",
        "  y = np.array([code_dict[i] for i in list(y)])\n",
        "  #y = np.eye(4)[y] #appearently crossEntropyLoss takes indices not one-hot\n",
        "  y = np.repeat(y, repeats, axis=0)\n",
        "\n",
        "  X = np.reshape(X[..., 250:1000], (repeats*X.shape[0], X.shape[1], windowSize))\n",
        "\n",
        "  tensor_x = torch.tensor(X).float().to('cuda') # Remove first second since its only the cue\n",
        "  tensor_y = torch.tensor(y).long().to('cuda')\n",
        "  my_dataset = TensorDataset(tensor_x,tensor_y) # create your datset\n",
        "\n",
        "  train_size = int(X.shape[0]*0.6)\n",
        "  val_size = int(X.shape[0]*0.2)\n",
        "  test_size = X.shape[0] - train_size - val_size\n",
        "\n",
        "  train, val, test = random_split(my_dataset, [train_size, val_size, test_size], generator=torch.Generator().manual_seed(42))\n",
        "\n",
        "  train = DataLoader(train, batch_size=batchSize)\n",
        "  val = DataLoader(val, batch_size=batchSize)\n",
        "  test = DataLoader(test, batch_size=batchSize)\n",
        "\n",
        "  return train, val, test"
      ],
      "execution_count": null,
      "outputs": []
    },
    {
      "cell_type": "markdown",
      "metadata": {
        "id": "kqoY3X6uaqsP"
      },
      "source": [
        "#### Tests"
      ]
    },
    {
      "cell_type": "code",
      "metadata": {
        "colab": {
          "base_uri": "https://localhost:8080/"
        },
        "id": "Tass0daWOY_W",
        "outputId": "c54441bf-8445-46fc-a9c4-8f77e99e04ee"
      },
      "source": [
        "'''\n",
        "dataset = BNCI2014001()\n",
        "paradigm = MotorImagery(n_classes=4)\n",
        "train, val, test = create_Loaders(dataset,paradigm, 32, 50)\n",
        "print(train)\n",
        "'''"
      ],
      "execution_count": null,
      "outputs": [
        {
          "output_type": "execute_result",
          "data": {
            "application/vnd.google.colaboratory.intrinsic+json": {
              "type": "string"
            },
            "text/plain": [
              "'\\ndataset = BNCI2014001()\\nparadigm = MotorImagery(n_classes=4)\\ntrain, val, test = create_Loaders(dataset,paradigm, 32, 50)\\nprint(train)\\n'"
            ]
          },
          "metadata": {
            "tags": []
          },
          "execution_count": 15
        }
      ]
    },
    {
      "cell_type": "code",
      "metadata": {
        "colab": {
          "base_uri": "https://localhost:8080/"
        },
        "id": "xMwjALN4TDWa",
        "outputId": "27b3b6d7-60b2-4ff9-bd9d-5e26be36c2ff"
      },
      "source": [
        "'''\n",
        "for x, y in val:\n",
        "  print(x.size())\n",
        "  print(y.size())\n",
        "'''"
      ],
      "execution_count": null,
      "outputs": [
        {
          "output_type": "execute_result",
          "data": {
            "application/vnd.google.colaboratory.intrinsic+json": {
              "type": "string"
            },
            "text/plain": [
              "'\\nfor x, y in val:\\n  print(x.size())\\n  print(y.size())\\n'"
            ]
          },
          "metadata": {
            "tags": []
          },
          "execution_count": 16
        }
      ]
    },
    {
      "cell_type": "markdown",
      "metadata": {
        "id": "uWMoVqTJaGf5"
      },
      "source": [
        "### Compute Loss"
      ]
    },
    {
      "cell_type": "code",
      "metadata": {
        "id": "aaReNOAfaGf7"
      },
      "source": [
        "def compute_loss(data, encoder, criterion, optimizer, opts):\n",
        "\n",
        "    losses = []\n",
        "\n",
        "    for X, y in data:\n",
        "        outputs = encoder(X)\n",
        "                    \n",
        "        #print(\"out\", outputs.size())\n",
        "        #print(\"y\", y.size())\n",
        "        loss = criterion(outputs, y)\n",
        "        #print(\"Batch loss: \", loss)\n",
        "        losses.append(loss.item())\n",
        "        \n",
        "        ## training if an optimizer is provided\n",
        "        if optimizer:\n",
        "          # Zero gradients\n",
        "          optimizer.zero_grad()\n",
        "          # Compute gradients\n",
        "          loss.backward()\n",
        "          # Update the parameters of the encoder and decoder\n",
        "          optimizer.step()\n",
        "    print(outputs)\n",
        "    print(y)\n",
        "\n",
        "    return losses"
      ],
      "execution_count": 36,
      "outputs": []
    },
    {
      "cell_type": "markdown",
      "metadata": {
        "id": "OQcPFzfeaGf_"
      },
      "source": [
        "### Training Loop"
      ]
    },
    {
      "cell_type": "code",
      "metadata": {
        "id": "r1RKVL_ZaGgA"
      },
      "source": [
        "def training_loop(train, val, encoder, criterion, optimizer, opts):\n",
        "\n",
        "    #loss_log = open(os.path.join(opts.checkpoint_path, 'loss_log.txt'), 'w')\n",
        "\n",
        "    best_val_loss = 1e6\n",
        "    train_losses = []\n",
        "    val_losses = []\n",
        "    \n",
        "    mean_train_losses = []\n",
        "    mean_val_losses = []\n",
        "\n",
        "    early_stopping_counter = 0\n",
        "    \n",
        "    for epoch in range(opts.nepochs):\n",
        "\n",
        "        optimizer.param_groups[0]['lr'] *= opts.lr_decay\n",
        "        \n",
        "        train_loss = compute_loss(train, encoder, criterion, optimizer, opts)\n",
        "        val_loss = compute_loss(val, encoder, criterion, None, opts)\n",
        "\n",
        "        mean_train_loss = np.mean(train_loss)\n",
        "        mean_val_loss = np.mean(val_loss)\n",
        "\n",
        "        if mean_val_loss < best_val_loss:\n",
        "            #checkpoint(encoder, decoder, idx_dict, opts)\n",
        "            best_val_loss = mean_val_loss\n",
        "            early_stopping_counter = 0\n",
        "        else:\n",
        "            early_stopping_counter += 1\n",
        "        \n",
        "        if early_stopping_counter > opts.early_stopping_patience:\n",
        "            print(\"Validation loss has not improved in {} epochs, stopping early\".format(opts.early_stopping_patience))\n",
        "            print(\"Obtained lowest validation loss of: {}\".format(best_val_loss))\n",
        "            return (train_losses, mean_val_losses)\n",
        "\n",
        "        #gen_string = translate_sentence(TEST_SENTENCE, encoder, decoder, idx_dict, opts)\n",
        "        print(\"Epoch: {:3d} | Train loss: {:.3f} | Val loss: {:.3f}\".format(epoch, mean_train_loss, mean_val_loss))\n",
        "\n",
        "        #loss_log.write('{} {} {}\\n'.format(epoch, train_loss, val_loss))\n",
        "        #loss_log.flush()\n",
        "\n",
        "        train_losses += train_loss\n",
        "        val_losses += val_loss\n",
        "\n",
        "        mean_train_losses.append(mean_train_loss)\n",
        "        mean_val_losses.append(mean_val_loss)\n",
        "\n",
        "        #save_loss_plot(mean_train_losses, mean_val_losses, opts)\n",
        "\n",
        "    print(\"Obtained lowest validation loss of: {}\".format(best_val_loss))\n",
        "    return (train_losses, mean_val_losses)"
      ],
      "execution_count": null,
      "outputs": []
    },
    {
      "cell_type": "markdown",
      "metadata": {
        "id": "nCSIB8TEaGf9"
      },
      "source": [
        "### Train Function"
      ]
    },
    {
      "cell_type": "code",
      "metadata": {
        "id": "6uItoEISaGf-"
      },
      "source": [
        "def train(opts):\n",
        "    encoder = Encoder(22, opts.hidden_size, opts.lstm_layers, opts.window_size) #22 for eeg channels\n",
        "\n",
        "    if opts.cuda:\n",
        "        encoder.cuda()\n",
        "        print(\"Moved models to GPU!\")\n",
        "\n",
        "    criterion = nn.CrossEntropyLoss()\n",
        "    optimizer = optim.Adam(list(encoder.parameters()), lr=opts.learning_rate)\n",
        "\n",
        "    dataset = BNCI2014001()\n",
        "    paradigm = MotorImagery(n_classes=4)\n",
        "    train, val, test = create_Loaders(dataset,paradigm, opts.batch_size, opts.window_size)  \n",
        "\n",
        "    try:\n",
        "        losses = training_loop(train, val, encoder, \n",
        "                               criterion, optimizer, opts)\n",
        "    except KeyboardInterrupt:\n",
        "        print('Exiting early from training.')\n",
        "        return encoder, losses\n",
        "      \n",
        "    return encoder, losses"
      ],
      "execution_count": null,
      "outputs": []
    },
    {
      "cell_type": "markdown",
      "metadata": {
        "id": "deadKrGOPUcO"
      },
      "source": [
        "## Feature Extraction\n",
        "\n",
        "This is an appaling failure to make an LSTM autoencoder dont bother running it its not complete\n",
        "\n",
        "**DO NOT RUN**"
      ]
    },
    {
      "cell_type": "code",
      "metadata": {
        "id": "7Ope1BQZ0EcW"
      },
      "source": [
        "class ScaledDotAttention(nn.Module):\n",
        "    def __init__(self, hidden_size):\n",
        "        super(ScaledDotAttention, self).__init__()\n",
        "\n",
        "        self.hidden_size = hidden_size\n",
        "\n",
        "        self.Q = nn.Linear(hidden_size, hidden_size)\n",
        "        self.K = nn.Linear(hidden_size, hidden_size)\n",
        "        self.V = nn.Linear(hidden_size, hidden_size)\n",
        "        self.softmax = nn.Softmax(dim=1)\n",
        "        self.scaling_factor = torch.rsqrt(torch.tensor(self.hidden_size, dtype= torch.float))\n",
        "\n",
        "    def forward(self, queries, keys, values):\n",
        "        \"\"\"The forward pass of the scaled dot attention mechanism.\n",
        "\n",
        "        Arguments:\n",
        "            queries: The current decoder hidden state, 2D or 3D tensor. (batch_size x (k) x hidden_size)\n",
        "            keys: The encoder hidden states for each step of the input sequence. (batch_size x seq_len x hidden_size)\n",
        "            values: The encoder hidden states for each step of the input sequence. (batch_size x seq_len x hidden_size)\n",
        "\n",
        "        Returns:\n",
        "            context: weighted average of the values (batch_size x k x hidden_size)\n",
        "            attention_weights: Normalized attention weights for each encoder hidden state. (batch_size x seq_len x 1)\n",
        "\n",
        "            The output must be a softmax weighting over the seq_len annotations.\n",
        "        \"\"\"\n",
        "\n",
        "        # ------------\n",
        "        # FILL THIS IN\n",
        "        # ------------\n",
        "        q = self.Q(queries)\n",
        "        batch_size = queries.size()[0]\n",
        "        if (len(queries.size()) < 3):\n",
        "          q = torch.unsqueeze(q, 1)\n",
        "        k = self.K(keys)\n",
        "        v = self.V(values)\n",
        "        print(\"key size: \", k.size())\n",
        "        print(\"q size: \", q.size())\n",
        "\n",
        "        unnormalized_attention = torch.bmm(q, torch.transpose(k, 2, 1))* self.scaling_factor\n",
        "        attention_weights = self.softmax(unnormalized_attention)\n",
        "        print(\"att weight: \", attention_weights.size())\n",
        "        context = torch.squeeze(torch.bmm(torch.transpose(attention_weights, 2, 1) , v)) #NOT masked\n",
        "        \n",
        "        return context, attention_weights"
      ],
      "execution_count": null,
      "outputs": []
    },
    {
      "cell_type": "code",
      "metadata": {
        "id": "XR2wGTp0XDgY"
      },
      "source": [
        "class Encoder (nn.Module):\n",
        "\n",
        "  def __init__(self, input_sizes, hidden_sizes, layersperlayer, kernel):\n",
        "\n",
        "    super(Encoder, self).__init__()\n",
        "\n",
        "    self.hidden_sizes = hidden_sizes\n",
        "    self.input_sizes = input_sizes[:-1]\n",
        "    self.output_sizes = input_sizes[1:]\n",
        "\n",
        "    print([(i,h) for i, h in zip(input_sizes, hidden_sizes)])\n",
        "    self.LSTMS = nn.ModuleList([nn.LSTM(input_size=i, hidden_size=h, num_layers=layersperlayer, batch_first=True) for i, h in zip(input_sizes, hidden_sizes)])\n",
        "    self.attention_network = nn.ModuleList([ScaledDotAttention(h) for h in hidden_sizes])\n",
        "    #self.linear = nn.ModuleList([nn.Linear(i, o) for i, o in zip(input_sizes, self.output_sizes)])\n",
        "    self.conv = nn.ModuleList([nn.Conv1d(i, o, kernel) for i, o in zip(input_sizes, self.output_sizes)])\n",
        "\n",
        "  def forward(self, input):\n",
        "    batch_size, channel, seq_len = input.size()\n",
        "    print(input.size())\n",
        "    input = torch.reshape(input, (batch_size, seq_len, channel))\n",
        "    hidden = torch.zeros(batch_size, self.hidden_sizes[0])#self.init_hidden(batch_size)\n",
        "    cell = torch.zeros(batch_size, self.hidden_sizes[0])#self.init_hidden(batch_size)\n",
        "\n",
        "    for i in range(len(self.hidden_sizes)):\n",
        "      print(input.size())\n",
        "      annotations, hidden = self.LSTMS[i](input) #, (hidden, cell))\n",
        "      print(\"annotations: \", annotations.size())\n",
        "      contexts, attention_weights = self.attention_network[i](annotations, annotations, annotations)\n",
        "      print(\"context: \", contexts.size())\n",
        "      input = self.linear[i](contexts)\n",
        "\n",
        "  \n",
        "\n",
        "  def init_hidden(self, bs):\n",
        "        \"\"\"Creates a tensor of zeros to represent the initial hidden states\n",
        "        of a batch of sequences.\n",
        "\n",
        "        Arguments:\n",
        "            bs: The batch size for the initial hidden state.\n",
        "\n",
        "        Returns:\n",
        "            hidden: An initial hidden state of all zeros. (batch_size x hidden_size)\n",
        "        \"\"\"\n",
        "        return to_var(torch.zeros(bs, self.hidden_size), self.opts.cuda)"
      ],
      "execution_count": null,
      "outputs": []
    },
    {
      "cell_type": "code",
      "metadata": {
        "colab": {
          "base_uri": "https://localhost:8080/"
        },
        "id": "qPuOQ-GC9WiO",
        "outputId": "63a3f004-7891-4d05-9538-54327015cfa0"
      },
      "source": [
        "print(X.dtype)\n",
        "data = torch.tensor(X[:32,...].astype(np.float64)).float()\n",
        "#print(data)\n",
        "crap = Encoder([22, 10], [20, 15], 2)\n",
        "crap(data)"
      ],
      "execution_count": null,
      "outputs": [
        {
          "output_type": "stream",
          "text": [
            "float64\n",
            "[(22, 20), (10, 15)]\n",
            "torch.Size([32, 22, 1001])\n",
            "torch.Size([32, 1001, 22])\n",
            "annotations:  torch.Size([32, 1001, 20])\n",
            "key size:  torch.Size([32, 1001, 20])\n",
            "q size:  torch.Size([32, 1001, 20])\n",
            "att weight:  torch.Size([32, 1001, 1001])\n",
            "context:  torch.Size([32, 1001, 20])\n"
          ],
          "name": "stdout"
        },
        {
          "output_type": "error",
          "ename": "RuntimeError",
          "evalue": "ignored",
          "traceback": [
            "\u001b[0;31m---------------------------------------------------------------------------\u001b[0m",
            "\u001b[0;31mRuntimeError\u001b[0m                              Traceback (most recent call last)",
            "\u001b[0;32m<ipython-input-97-e455f5bdd413>\u001b[0m in \u001b[0;36m<module>\u001b[0;34m()\u001b[0m\n\u001b[1;32m      3\u001b[0m \u001b[0;31m#print(data)\u001b[0m\u001b[0;34m\u001b[0m\u001b[0;34m\u001b[0m\u001b[0;34m\u001b[0m\u001b[0m\n\u001b[1;32m      4\u001b[0m \u001b[0mcrap\u001b[0m \u001b[0;34m=\u001b[0m \u001b[0mEncoder\u001b[0m\u001b[0;34m(\u001b[0m\u001b[0;34m[\u001b[0m\u001b[0;36m22\u001b[0m\u001b[0;34m,\u001b[0m \u001b[0;36m10\u001b[0m\u001b[0;34m]\u001b[0m\u001b[0;34m,\u001b[0m \u001b[0;34m[\u001b[0m\u001b[0;36m20\u001b[0m\u001b[0;34m,\u001b[0m \u001b[0;36m15\u001b[0m\u001b[0;34m]\u001b[0m\u001b[0;34m,\u001b[0m \u001b[0;36m2\u001b[0m\u001b[0;34m)\u001b[0m\u001b[0;34m\u001b[0m\u001b[0;34m\u001b[0m\u001b[0m\n\u001b[0;32m----> 5\u001b[0;31m \u001b[0mcrap\u001b[0m\u001b[0;34m(\u001b[0m\u001b[0mdata\u001b[0m\u001b[0;34m)\u001b[0m\u001b[0;34m\u001b[0m\u001b[0;34m\u001b[0m\u001b[0m\n\u001b[0m",
            "\u001b[0;32m/usr/local/lib/python3.7/dist-packages/torch/nn/modules/module.py\u001b[0m in \u001b[0;36m_call_impl\u001b[0;34m(self, *input, **kwargs)\u001b[0m\n\u001b[1;32m    887\u001b[0m             \u001b[0mresult\u001b[0m \u001b[0;34m=\u001b[0m \u001b[0mself\u001b[0m\u001b[0;34m.\u001b[0m\u001b[0m_slow_forward\u001b[0m\u001b[0;34m(\u001b[0m\u001b[0;34m*\u001b[0m\u001b[0minput\u001b[0m\u001b[0;34m,\u001b[0m \u001b[0;34m**\u001b[0m\u001b[0mkwargs\u001b[0m\u001b[0;34m)\u001b[0m\u001b[0;34m\u001b[0m\u001b[0;34m\u001b[0m\u001b[0m\n\u001b[1;32m    888\u001b[0m         \u001b[0;32melse\u001b[0m\u001b[0;34m:\u001b[0m\u001b[0;34m\u001b[0m\u001b[0;34m\u001b[0m\u001b[0m\n\u001b[0;32m--> 889\u001b[0;31m             \u001b[0mresult\u001b[0m \u001b[0;34m=\u001b[0m \u001b[0mself\u001b[0m\u001b[0;34m.\u001b[0m\u001b[0mforward\u001b[0m\u001b[0;34m(\u001b[0m\u001b[0;34m*\u001b[0m\u001b[0minput\u001b[0m\u001b[0;34m,\u001b[0m \u001b[0;34m**\u001b[0m\u001b[0mkwargs\u001b[0m\u001b[0;34m)\u001b[0m\u001b[0;34m\u001b[0m\u001b[0;34m\u001b[0m\u001b[0m\n\u001b[0m\u001b[1;32m    890\u001b[0m         for hook in itertools.chain(\n\u001b[1;32m    891\u001b[0m                 \u001b[0m_global_forward_hooks\u001b[0m\u001b[0;34m.\u001b[0m\u001b[0mvalues\u001b[0m\u001b[0;34m(\u001b[0m\u001b[0;34m)\u001b[0m\u001b[0;34m,\u001b[0m\u001b[0;34m\u001b[0m\u001b[0;34m\u001b[0m\u001b[0m\n",
            "\u001b[0;32m<ipython-input-95-b8dacd9e7e7a>\u001b[0m in \u001b[0;36mforward\u001b[0;34m(self, input)\u001b[0m\n\u001b[1;32m     27\u001b[0m       \u001b[0mcontexts\u001b[0m\u001b[0;34m,\u001b[0m \u001b[0mattention_weights\u001b[0m \u001b[0;34m=\u001b[0m \u001b[0mself\u001b[0m\u001b[0;34m.\u001b[0m\u001b[0mattention_network\u001b[0m\u001b[0;34m[\u001b[0m\u001b[0mi\u001b[0m\u001b[0;34m]\u001b[0m\u001b[0;34m(\u001b[0m\u001b[0mannotations\u001b[0m\u001b[0;34m,\u001b[0m \u001b[0mannotations\u001b[0m\u001b[0;34m,\u001b[0m \u001b[0mannotations\u001b[0m\u001b[0;34m)\u001b[0m\u001b[0;34m\u001b[0m\u001b[0;34m\u001b[0m\u001b[0m\n\u001b[1;32m     28\u001b[0m       \u001b[0mprint\u001b[0m\u001b[0;34m(\u001b[0m\u001b[0;34m\"context: \"\u001b[0m\u001b[0;34m,\u001b[0m \u001b[0mcontexts\u001b[0m\u001b[0;34m.\u001b[0m\u001b[0msize\u001b[0m\u001b[0;34m(\u001b[0m\u001b[0;34m)\u001b[0m\u001b[0;34m)\u001b[0m\u001b[0;34m\u001b[0m\u001b[0;34m\u001b[0m\u001b[0m\n\u001b[0;32m---> 29\u001b[0;31m       \u001b[0minput\u001b[0m \u001b[0;34m=\u001b[0m \u001b[0mself\u001b[0m\u001b[0;34m.\u001b[0m\u001b[0mlinear\u001b[0m\u001b[0;34m[\u001b[0m\u001b[0mi\u001b[0m\u001b[0;34m]\u001b[0m\u001b[0;34m(\u001b[0m\u001b[0mcontexts\u001b[0m\u001b[0;34m)\u001b[0m\u001b[0;34m\u001b[0m\u001b[0;34m\u001b[0m\u001b[0m\n\u001b[0m\u001b[1;32m     30\u001b[0m \u001b[0;34m\u001b[0m\u001b[0m\n\u001b[1;32m     31\u001b[0m \u001b[0;34m\u001b[0m\u001b[0m\n",
            "\u001b[0;32m/usr/local/lib/python3.7/dist-packages/torch/nn/modules/module.py\u001b[0m in \u001b[0;36m_call_impl\u001b[0;34m(self, *input, **kwargs)\u001b[0m\n\u001b[1;32m    887\u001b[0m             \u001b[0mresult\u001b[0m \u001b[0;34m=\u001b[0m \u001b[0mself\u001b[0m\u001b[0;34m.\u001b[0m\u001b[0m_slow_forward\u001b[0m\u001b[0;34m(\u001b[0m\u001b[0;34m*\u001b[0m\u001b[0minput\u001b[0m\u001b[0;34m,\u001b[0m \u001b[0;34m**\u001b[0m\u001b[0mkwargs\u001b[0m\u001b[0;34m)\u001b[0m\u001b[0;34m\u001b[0m\u001b[0;34m\u001b[0m\u001b[0m\n\u001b[1;32m    888\u001b[0m         \u001b[0;32melse\u001b[0m\u001b[0;34m:\u001b[0m\u001b[0;34m\u001b[0m\u001b[0;34m\u001b[0m\u001b[0m\n\u001b[0;32m--> 889\u001b[0;31m             \u001b[0mresult\u001b[0m \u001b[0;34m=\u001b[0m \u001b[0mself\u001b[0m\u001b[0;34m.\u001b[0m\u001b[0mforward\u001b[0m\u001b[0;34m(\u001b[0m\u001b[0;34m*\u001b[0m\u001b[0minput\u001b[0m\u001b[0;34m,\u001b[0m \u001b[0;34m**\u001b[0m\u001b[0mkwargs\u001b[0m\u001b[0;34m)\u001b[0m\u001b[0;34m\u001b[0m\u001b[0;34m\u001b[0m\u001b[0m\n\u001b[0m\u001b[1;32m    890\u001b[0m         for hook in itertools.chain(\n\u001b[1;32m    891\u001b[0m                 \u001b[0m_global_forward_hooks\u001b[0m\u001b[0;34m.\u001b[0m\u001b[0mvalues\u001b[0m\u001b[0;34m(\u001b[0m\u001b[0;34m)\u001b[0m\u001b[0;34m,\u001b[0m\u001b[0;34m\u001b[0m\u001b[0;34m\u001b[0m\u001b[0m\n",
            "\u001b[0;32m/usr/local/lib/python3.7/dist-packages/torch/nn/modules/linear.py\u001b[0m in \u001b[0;36mforward\u001b[0;34m(self, input)\u001b[0m\n\u001b[1;32m     92\u001b[0m \u001b[0;34m\u001b[0m\u001b[0m\n\u001b[1;32m     93\u001b[0m     \u001b[0;32mdef\u001b[0m \u001b[0mforward\u001b[0m\u001b[0;34m(\u001b[0m\u001b[0mself\u001b[0m\u001b[0;34m,\u001b[0m \u001b[0minput\u001b[0m\u001b[0;34m:\u001b[0m \u001b[0mTensor\u001b[0m\u001b[0;34m)\u001b[0m \u001b[0;34m->\u001b[0m \u001b[0mTensor\u001b[0m\u001b[0;34m:\u001b[0m\u001b[0;34m\u001b[0m\u001b[0;34m\u001b[0m\u001b[0m\n\u001b[0;32m---> 94\u001b[0;31m         \u001b[0;32mreturn\u001b[0m \u001b[0mF\u001b[0m\u001b[0;34m.\u001b[0m\u001b[0mlinear\u001b[0m\u001b[0;34m(\u001b[0m\u001b[0minput\u001b[0m\u001b[0;34m,\u001b[0m \u001b[0mself\u001b[0m\u001b[0;34m.\u001b[0m\u001b[0mweight\u001b[0m\u001b[0;34m,\u001b[0m \u001b[0mself\u001b[0m\u001b[0;34m.\u001b[0m\u001b[0mbias\u001b[0m\u001b[0;34m)\u001b[0m\u001b[0;34m\u001b[0m\u001b[0;34m\u001b[0m\u001b[0m\n\u001b[0m\u001b[1;32m     95\u001b[0m \u001b[0;34m\u001b[0m\u001b[0m\n\u001b[1;32m     96\u001b[0m     \u001b[0;32mdef\u001b[0m \u001b[0mextra_repr\u001b[0m\u001b[0;34m(\u001b[0m\u001b[0mself\u001b[0m\u001b[0;34m)\u001b[0m \u001b[0;34m->\u001b[0m \u001b[0mstr\u001b[0m\u001b[0;34m:\u001b[0m\u001b[0;34m\u001b[0m\u001b[0;34m\u001b[0m\u001b[0m\n",
            "\u001b[0;32m/usr/local/lib/python3.7/dist-packages/torch/nn/functional.py\u001b[0m in \u001b[0;36mlinear\u001b[0;34m(input, weight, bias)\u001b[0m\n\u001b[1;32m   1751\u001b[0m     \u001b[0;32mif\u001b[0m \u001b[0mhas_torch_function_variadic\u001b[0m\u001b[0;34m(\u001b[0m\u001b[0minput\u001b[0m\u001b[0;34m,\u001b[0m \u001b[0mweight\u001b[0m\u001b[0;34m)\u001b[0m\u001b[0;34m:\u001b[0m\u001b[0;34m\u001b[0m\u001b[0;34m\u001b[0m\u001b[0m\n\u001b[1;32m   1752\u001b[0m         \u001b[0;32mreturn\u001b[0m \u001b[0mhandle_torch_function\u001b[0m\u001b[0;34m(\u001b[0m\u001b[0mlinear\u001b[0m\u001b[0;34m,\u001b[0m \u001b[0;34m(\u001b[0m\u001b[0minput\u001b[0m\u001b[0;34m,\u001b[0m \u001b[0mweight\u001b[0m\u001b[0;34m)\u001b[0m\u001b[0;34m,\u001b[0m \u001b[0minput\u001b[0m\u001b[0;34m,\u001b[0m \u001b[0mweight\u001b[0m\u001b[0;34m,\u001b[0m \u001b[0mbias\u001b[0m\u001b[0;34m=\u001b[0m\u001b[0mbias\u001b[0m\u001b[0;34m)\u001b[0m\u001b[0;34m\u001b[0m\u001b[0;34m\u001b[0m\u001b[0m\n\u001b[0;32m-> 1753\u001b[0;31m     \u001b[0;32mreturn\u001b[0m \u001b[0mtorch\u001b[0m\u001b[0;34m.\u001b[0m\u001b[0m_C\u001b[0m\u001b[0;34m.\u001b[0m\u001b[0m_nn\u001b[0m\u001b[0;34m.\u001b[0m\u001b[0mlinear\u001b[0m\u001b[0;34m(\u001b[0m\u001b[0minput\u001b[0m\u001b[0;34m,\u001b[0m \u001b[0mweight\u001b[0m\u001b[0;34m,\u001b[0m \u001b[0mbias\u001b[0m\u001b[0;34m)\u001b[0m\u001b[0;34m\u001b[0m\u001b[0;34m\u001b[0m\u001b[0m\n\u001b[0m\u001b[1;32m   1754\u001b[0m \u001b[0;34m\u001b[0m\u001b[0m\n\u001b[1;32m   1755\u001b[0m \u001b[0;34m\u001b[0m\u001b[0m\n",
            "\u001b[0;31mRuntimeError\u001b[0m: mat1 and mat2 shapes cannot be multiplied (32032x20 and 22x10)"
          ]
        }
      ]
    },
    {
      "cell_type": "code",
      "metadata": {
        "id": "Tg1i_Au0XDrJ"
      },
      "source": [
        "class Decoder (nn.Module):\n",
        "\n",
        "  def __init__(self, input_size, hidden_sizes, num_layers):\n",
        "\n",
        "    super(Decoder, self).__init__()\n",
        "\n",
        "    self.hidden_sizes = hidden_sizes\n",
        "    self.start_size = hidden_sizes[::-1][:-1]\n",
        "    self.end_size = hidden_sizes[::-1][1:]\n",
        "\n",
        "    self.LSTMS = nn.ModuleList([nn.LSTM(input_size=s, hidden_size=e, 1) for s, e in zip(self.start_size, self.end_size)])\n",
        "    self.attention_network = nn.Sequential(\n",
        "                                nn.Linear(hidden_size*2, hidden_size),\n",
        "                                nn.ReLU(),\n",
        "                                nn.Linear(hidden_size, 1)\n",
        "                             )\n",
        "    self.softmax = nn.Softmax(dim=1)\n",
        "\n",
        "  def forward(self, input):\n",
        "\n",
        "    for i in range(len(heddensizes)):"
      ],
      "execution_count": null,
      "outputs": []
    },
    {
      "cell_type": "code",
      "metadata": {
        "id": "9pPVNzdyPXgu"
      },
      "source": [
        "class AutoEncoder (nn.Module):\n",
        "\n",
        "  def __init__(self, input_size, hidden_sizes, num_layers):\n",
        "\n",
        "    super(AdditiveAttention, self).__init__()\n",
        "\n",
        "    self.hidden_sizes = hidden_sizes\n",
        "    self.start_size = hidden_sizes[:-1] + hidden_sizes[::-1][:-1]\n",
        "    self.end_size = hidden_sizes[1:] + hidden_sizes[::-1][1:]\n",
        "\n",
        "    self.LSTMS = nn.ModuleList([nn.LSTM(input_size=s, hidden_size=e, 1) for s, e in zip(self.start_size, self.end_size)])\n",
        "    self.attention_network = nn.Sequential(\n",
        "                                nn.Linear(hidden_size*2, hidden_size),\n",
        "                                nn.ReLU(),\n",
        "                                nn.Linear(hidden_size, 1)\n",
        "                             )\n",
        "    self.softmax = nn.Softmax(dim=1)\n",
        "\n",
        "  def forward(self, input):\n",
        "\n",
        "    for i in range(len(heddensizes)):\n",
        "\n"
      ],
      "execution_count": null,
      "outputs": []
    },
    {
      "cell_type": "markdown",
      "metadata": {
        "id": "9orvA09AK9C6"
      },
      "source": [
        "## Model"
      ]
    },
    {
      "cell_type": "markdown",
      "metadata": {
        "id": "tG3h63qB2sTo"
      },
      "source": [
        "### Embedding\n",
        "\n",
        "my thought would be be to train conv1d autoencoder and using encoder as embedding"
      ]
    },
    {
      "cell_type": "code",
      "metadata": {
        "id": "nrs0FXTm2unn"
      },
      "source": [
        ""
      ],
      "execution_count": null,
      "outputs": []
    },
    {
      "cell_type": "markdown",
      "metadata": {
        "id": "VHY-TVxbtdwW"
      },
      "source": [
        "### Attention"
      ]
    },
    {
      "cell_type": "code",
      "metadata": {
        "id": "52Q2hiRQthlb"
      },
      "source": [
        "class ScaledDotAttention(nn.Module):\n",
        "    def __init__(self, hidden_size):\n",
        "        super(ScaledDotAttention, self).__init__()\n",
        "\n",
        "        self.hidden_size = hidden_size\n",
        "\n",
        "        self.Q = nn.Linear(hidden_size, hidden_size)\n",
        "        self.K = nn.Linear(hidden_size, hidden_size)\n",
        "        self.V = nn.Linear(hidden_size, hidden_size)\n",
        "        self.softmax = nn.Softmax(dim=1)\n",
        "        self.scaling_factor = torch.rsqrt(torch.tensor(self.hidden_size, dtype= torch.float))\n",
        "\n",
        "    def forward(self, queries, keys, values):\n",
        "        \"\"\"The forward pass of the scaled dot attention mechanism.\n",
        "\n",
        "        Arguments:\n",
        "            queries: The current decoder hidden state, 2D or 3D tensor. (batch_size x (k) x hidden_size)\n",
        "            keys: The encoder hidden states for each step of the input sequence. (batch_size x seq_len x hidden_size)\n",
        "            values: The encoder hidden states for each step of the input sequence. (batch_size x seq_len x hidden_size)\n",
        "\n",
        "        Returns:\n",
        "            context: weighted average of the values (batch_size x k x hidden_size)\n",
        "            attention_weights: Normalized attention weights for each encoder hidden state. (batch_size x seq_len x 1)\n",
        "\n",
        "            The output must be a softmax weighting over the seq_len annotations.\n",
        "        \"\"\"\n",
        "\n",
        "        # ------------\n",
        "        # FILL THIS IN\n",
        "        # ------------\n",
        "        q = self.Q(queries)\n",
        "        batch_size = queries.size()[0]\n",
        "        if (len(queries.size()) < 3):\n",
        "          q = torch.unsqueeze(q, 1)\n",
        "        k = self.K(keys)\n",
        "        v = self.V(values)\n",
        "        #print(\"key size: \", k.size())\n",
        "        #print(\"q size: \", q.size())\n",
        "\n",
        "        unnormalized_attention = torch.bmm(q, torch.transpose(k, 1, 2))* self.scaling_factor\n",
        "        attention_weights = self.softmax(unnormalized_attention)\n",
        "        #print(\"att weight: \", attention_weights.size())\n",
        "        context = torch.squeeze(torch.bmm(torch.transpose(attention_weights, 1, 2) , v)) #NOT masked\n",
        "        \n",
        "        return context, attention_weights"
      ],
      "execution_count": null,
      "outputs": []
    },
    {
      "cell_type": "markdown",
      "metadata": {
        "id": "k7Bby5zJanl9"
      },
      "source": [
        "### Encoder"
      ]
    },
    {
      "cell_type": "code",
      "metadata": {
        "id": "G2SNEGhOaoDQ"
      },
      "source": [
        "class Encoder(nn.Module):\n",
        "\n",
        "  def __init__(self, input_size, hidden_size, num_layers, seq_len):\n",
        "\n",
        "    super(Encoder, self).__init__()\n",
        "\n",
        "    self.hidden_size = hidden_size\n",
        "\n",
        "    self.lstm = nn.LSTM(input_size=input_size, hidden_size=hidden_size, num_layers=num_layers, batch_first=True)\n",
        "    self.attention_network = ScaledDotAttention(hidden_size)\n",
        "    self.linear = nn.Sequential(nn.Linear(hidden_size, hidden_size), nn.Linear(hidden_size, hidden_size), nn.Linear(hidden_size, 4)) # 4 is num of classes change to use num_layers\n",
        "    self.softmax = nn.Softmax(dim=1)\n",
        "    \n",
        "    self.positional_encodings = self.create_positional_encodings(max_seq_len=seq_len)\n",
        "\n",
        "  def forward(self, input):\n",
        "    batch_size, channel, seq_len = input.size()\n",
        "    annotations, hidden = self.lstm(torch.reshape(input, (batch_size, seq_len, channel)))\n",
        "    annotations = annotations + self.positional_encodings\n",
        "    contexts, attention_weights = self.attention_network(annotations, annotations, annotations)\n",
        "    output = self.linear(torch.squeeze(torch.sum(contexts, dim=1)))\n",
        "    return  self.softmax(output)\n",
        "\n",
        "\n",
        "  def create_positional_encodings(self, max_seq_len=1000):\n",
        "    \"\"\"Creates positional encodings for the inputs.\n",
        "    Arguments:\n",
        "        max_seq_len: a number larger than the maximum string length we expect to encounter during training\n",
        "    Returns:\n",
        "        pos_encodings: (max_seq_len, hidden_dim) Positional encodings for a sequence with length max_seq_len. \n",
        "    \"\"\"\n",
        "    pos_indices = torch.arange(max_seq_len)[..., None]\n",
        "    dim_indices = torch.arange(self.hidden_size//2)[None, ...]\n",
        "    exponents = (2*dim_indices).float()/(self.hidden_size)\n",
        "    trig_args = pos_indices / (10000**exponents)\n",
        "    sin_terms = torch.sin(trig_args)\n",
        "    cos_terms = torch.cos(trig_args)\n",
        "    pos_encodings = torch.zeros((max_seq_len, self.hidden_size))\n",
        "    pos_encodings[:, 0::2] = sin_terms\n",
        "    pos_encodings[:, 1::2] = cos_terms\n",
        "    pos_encodings = pos_encodings.cuda()\n",
        "    #if self.opts.cuda:\n",
        "    #    pos_encodings = pos_encodings.cuda()\n",
        "    return pos_encodings\n"
      ],
      "execution_count": null,
      "outputs": []
    },
    {
      "cell_type": "markdown",
      "metadata": {
        "id": "nwVkSYw6Q-He"
      },
      "source": [
        "#### Verify model"
      ]
    },
    {
      "cell_type": "code",
      "metadata": {
        "colab": {
          "base_uri": "https://localhost:8080/"
        },
        "id": "C7wyHl9FwE7s",
        "outputId": "87f454b6-f8a4-46e9-dc4b-791e5561d963"
      },
      "source": [
        "'''\n",
        "print(X.dtype)\n",
        "data = torch.tensor(X[:32,...]).float()\n",
        "#print(data)\n",
        "crap = Encoder(22, 50, 5, 1001)\n",
        "A = crap(data)\n",
        "print(A.size())\n",
        "print(A)\n",
        "'''"
      ],
      "execution_count": null,
      "outputs": [
        {
          "output_type": "execute_result",
          "data": {
            "application/vnd.google.colaboratory.intrinsic+json": {
              "type": "string"
            },
            "text/plain": [
              "'\\nprint(X.dtype)\\ndata = torch.tensor(X[:32,...]).float()\\n#print(data)\\ncrap = Encoder(22, 50, 5, 1001)\\nA = crap(data)\\nprint(A.size())\\nprint(A)\\n'"
            ]
          },
          "metadata": {
            "tags": []
          },
          "execution_count": 22
        }
      ]
    },
    {
      "cell_type": "code",
      "metadata": {
        "colab": {
          "base_uri": "https://localhost:8080/"
        },
        "id": "BBUWyCje5syd",
        "outputId": "306a0722-8cfa-42e5-eeb4-3d59a05f0293"
      },
      "source": [
        "'''\n",
        "fuck = X[..., :1000]\n",
        "windowsize = 50\n",
        "repeats = int(1000/50)\n",
        "a = fuck.shape[0]\n",
        "fuck = np.reshape(fuck, (repeats*a, fuck.shape[1], windowsize))\n",
        "print(fuck.shape)\n",
        "you = np.repeat(y, repeats, axis=0)\n",
        "print(you.shape)\n",
        "'''"
      ],
      "execution_count": null,
      "outputs": [
        {
          "output_type": "execute_result",
          "data": {
            "application/vnd.google.colaboratory.intrinsic+json": {
              "type": "string"
            },
            "text/plain": [
              "'\\nfuck = X[..., :1000]\\nwindowsize = 50\\nrepeats = int(1000/50)\\na = fuck.shape[0]\\nfuck = np.reshape(fuck, (repeats*a, fuck.shape[1], windowsize))\\nprint(fuck.shape)\\nyou = np.repeat(y, repeats, axis=0)\\nprint(you.shape)\\n'"
            ]
          },
          "metadata": {
            "tags": []
          },
          "execution_count": 23
        }
      ]
    },
    {
      "cell_type": "code",
      "metadata": {
        "colab": {
          "base_uri": "https://localhost:8080/"
        },
        "id": "pL5jikZu7urF",
        "outputId": "4d2dd367-3c86-4651-bf8b-cd5dec349b04"
      },
      "source": [
        "'''\n",
        "crap = Encoder(22, 100, 5, windowsize)\n",
        "A = crap(torch.tensor(fuck[:128,...]).float())\n",
        "A[:5,...]\n",
        "'''"
      ],
      "execution_count": null,
      "outputs": [
        {
          "output_type": "execute_result",
          "data": {
            "application/vnd.google.colaboratory.intrinsic+json": {
              "type": "string"
            },
            "text/plain": [
              "'\\ncrap = Encoder(22, 100, 5, windowsize)\\nA = crap(torch.tensor(fuck[:128,...]).float())\\nA[:5,...]\\n'"
            ]
          },
          "metadata": {
            "tags": []
          },
          "execution_count": 24
        }
      ]
    },
    {
      "cell_type": "markdown",
      "metadata": {
        "id": "iyfsfZBrchyL"
      },
      "source": [
        "## Train"
      ]
    },
    {
      "cell_type": "code",
      "metadata": {
        "colab": {
          "base_uri": "https://localhost:8080/"
        },
        "id": "g0xHOCPpcmcX",
        "outputId": "8ecc45da-64d1-4fb8-f318-35221c8499ce"
      },
      "source": [
        "options = AttrDict()\n",
        "dict_op = {\n",
        "              'nepochs':20,\n",
        "              'learning_rate':0.1,\n",
        "              'lr_decay':0.99,\n",
        "              'batch_size':64,\n",
        "              'hidden_size':32,\n",
        "              'input_size':22,\n",
        "              'lstm_layers':5,\n",
        "              'window_size':50,\n",
        "              'cuda':True,\n",
        "              'early_stopping_patience':5\n",
        "}\n",
        "options.update(dict_op)\n",
        "\n",
        "#print_opts(options)\n",
        "print(options)\n",
        "model, loss = train(options)\n"
      ],
      "execution_count": null,
      "outputs": [
        {
          "output_type": "stream",
          "text": [
            "Choosing from all possible events\n"
          ],
          "name": "stderr"
        },
        {
          "output_type": "stream",
          "text": [
            "{'nepochs': 20, 'learning_rate': 0.1, 'lr_decay': 0.99, 'batch_size': 64, 'hidden_size': 32, 'input_size': 22, 'lstm_layers': 5, 'window_size': 50, 'cuda': True, 'early_stopping_patience': 5}\n",
            "Moved models to GPU!\n"
          ],
          "name": "stdout"
        }
      ]
    }
  ]
}